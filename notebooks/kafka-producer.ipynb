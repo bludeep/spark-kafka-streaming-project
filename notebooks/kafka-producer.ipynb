{
 "cells": [
  {
   "cell_type": "code",
   "execution_count": null,
   "id": "3eb3ce0d",
   "metadata": {},
   "outputs": [],
   "source": [
    "import pandas as pd\n",
    "import json\n",
    "import time\n",
    "from kafka import KafkaProducer\n",
    "\n",
    "KAFKA_SERVER = \"kafka:9092\"\n",
    "TOPIC_NAME = \"csv-data\"\n",
    "CSV_FILE = \"portugal_listinigs.csv\"\n",
    "RECORD_PER_SECOND = 10\n",
    "\n",
    "def send_csv_to_kafka():\n",
    "    producer = KafkaProducer(\n",
    "        bootstrap_servers=KAFKA_SERVER,\n",
    "        value_serializer=lambda x: json.dumps(x).encode(\"utf-8\")\n",
    "    )\n",
    "\n",
    "    df = pd.read_csv(CSV_FILE)\n",
    "    print(f\" Загружен CSV: {len(df)} строк\")\n",
    "\n",
    "    for index, row in df.iterrows():\n",
    "\n",
    "        message = row.to_dict()\n",
    "\n",
    "        key = f'{row[\"District\"]}_{row['Type']}'\n",
    "\n",
    "        producer.send(TOPIC_NAME,key=key.encode(\"utf-8\"), value=message)\n",
    "\n",
    "        print(f\"Отправлено: запись {index + 1}\")\n",
    "\n",
    "        time.sleep(1.0 / RECORD_PER_SECOND)\n",
    "\n",
    "    print(\" Начинаем заново...\")\n",
    "\n",
    "if __name__ == \"__main__\":\n",
    "    while True:\n",
    "        try:\n",
    "            send_csv_to_kafka()\n",
    "        except  KeyboardInterrupt:\n",
    "            print(\"\\n Остановлено\")\n",
    "            break\n",
    "        except Exception as e:\n",
    "            print(f\"Ошибка {e}\")\n",
    "            time.sleep(5)\n",
    "\n",
    "\n",
    "\n",
    "\n",
    "\n",
    "\n",
    "\n",
    "\n",
    "\n",
    "\n",
    "\n",
    "\n",
    "\n",
    "\n",
    "\n",
    "\n",
    "        "
   ]
  },
  {
   "cell_type": "code",
   "execution_count": 3,
   "id": "ded6a87c",
   "metadata": {},
   "outputs": [
    {
     "name": "stdout",
     "output_type": "stream",
     "text": [
      "portugal_listinigs.csv\n"
     ]
    }
   ],
   "source": [
    "!ls \"portugal_listinigs.csv\""
   ]
  },
  {
   "cell_type": "code",
   "execution_count": null,
   "id": "158e670e",
   "metadata": {},
   "outputs": [],
   "source": []
  }
 ],
 "metadata": {
  "kernelspec": {
   "display_name": "Python 3 (ipykernel)",
   "language": "python",
   "name": "python3"
  },
  "language_info": {
   "codemirror_mode": {
    "name": "ipython",
    "version": 3
   },
   "file_extension": ".py",
   "mimetype": "text/x-python",
   "name": "python",
   "nbconvert_exporter": "python",
   "pygments_lexer": "ipython3",
   "version": "3.11.6"
  }
 },
 "nbformat": 4,
 "nbformat_minor": 5
}
