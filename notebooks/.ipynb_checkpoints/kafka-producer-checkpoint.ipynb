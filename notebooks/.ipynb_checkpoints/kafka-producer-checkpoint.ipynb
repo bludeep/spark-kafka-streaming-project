{
 "cells": [
  {
   "cell_type": "code",
   "execution_count": 4,
   "id": "3eb3ce0d",
   "metadata": {},
   "outputs": [
    {
     "ename": "ModuleNotFoundError",
     "evalue": "No module named 'Kafka'",
     "output_type": "error",
     "traceback": [
      "\u001b[0;31m---------------------------------------------------------------------------\u001b[0m",
      "\u001b[0;31mModuleNotFoundError\u001b[0m                       Traceback (most recent call last)",
      "Cell \u001b[0;32mIn[4], line 4\u001b[0m\n\u001b[1;32m      2\u001b[0m \u001b[38;5;28;01mimport\u001b[39;00m \u001b[38;5;21;01mjson\u001b[39;00m\n\u001b[1;32m      3\u001b[0m \u001b[38;5;28;01mimport\u001b[39;00m \u001b[38;5;21;01mtime\u001b[39;00m\n\u001b[0;32m----> 4\u001b[0m \u001b[38;5;28;01mfrom\u001b[39;00m \u001b[38;5;21;01mKafka\u001b[39;00m \u001b[38;5;28;01mimport\u001b[39;00m KafkaProducer\n\u001b[1;32m      6\u001b[0m KAFKA_SERVER \u001b[38;5;241m=\u001b[39m \u001b[38;5;124m\"\u001b[39m\u001b[38;5;124mlocalhost:9092\u001b[39m\u001b[38;5;124m\"\u001b[39m\n\u001b[1;32m      7\u001b[0m TOPIC_NAME \u001b[38;5;241m=\u001b[39m \u001b[38;5;124m\"\u001b[39m\u001b[38;5;124mcsv-data\u001b[39m\u001b[38;5;124m\"\u001b[39m\n",
      "\u001b[0;31mModuleNotFoundError\u001b[0m: No module named 'Kafka'"
     ]
    }
   ],
   "source": [
    "import pandas as pd\n",
    "import json\n",
    "import time\n",
    "from Kafka import KafkaProducer\n",
    "\n",
    "KAFKA_SERVER = \"localhost:9092\"\n",
    "TOPIC_NAME = \"csv-data\"\n",
    "CSV_FILE = \"portugal_listinigs.csv\"\n",
    "RECORD_PER_SECOND = 10\n",
    "\n",
    "def send_csv_to_kafka():\n",
    "    producer = KafkaProducer(\n",
    "        bootstrap_servers=KAFKA_SERVER,\n",
    "        value_serializer=lambda x: json.dumps(x).encode(\"utf-8\") # что тут происходит?\n",
    "    )\n",
    "\n",
    "    df = pd.read_csv(CSV_FILE)\n",
    "    print(f\" Загружен CSV: {len(df)} строк\")\n",
    "\n",
    "    for index, row in df.iterrows(): # что тут происходит что делает функция iterows()\n",
    "\n",
    "        message = row.to_dict() # зачем мы его суем в дикт?\n",
    "\n",
    "        producer.send(TOPIC_NAME, message)\n",
    "\n",
    "        print(f\"Отправлено: запись {index + 1}\")\n",
    "\n",
    "        time.sleep(1.0 / RECORD_PER_SECOND) # что происходит тут\n",
    "\n",
    "    print(\" Начинаем заново...\")\n",
    "\n",
    "if __name__ == \"__main__\":\n",
    "    while True:\n",
    "        try:\n",
    "            send_csv_to_kafka()\n",
    "        except  KeyboardInterrupt:\n",
    "            print(\"\\n Остановлено\")\n",
    "            break\n",
    "        except Exception as e:\n",
    "            print(f\"Ошибка {e}\")\n",
    "            time.sleep(5)\n",
    "\n",
    "\n",
    "\n",
    "\n",
    "\n",
    "\n",
    "\n",
    "\n",
    "\n",
    "\n",
    "\n",
    "\n",
    "\n",
    "\n",
    "\n",
    "\n",
    "        "
   ]
  },
  {
   "cell_type": "code",
   "execution_count": 3,
   "id": "ded6a87c",
   "metadata": {},
   "outputs": [
    {
     "name": "stdout",
     "output_type": "stream",
     "text": [
      "portugal_listinigs.csv\n"
     ]
    }
   ],
   "source": [
    "!ls \"portugal_listinigs.csv\""
   ]
  },
  {
   "cell_type": "code",
   "execution_count": null,
   "id": "158e670e",
   "metadata": {},
   "outputs": [],
   "source": []
  }
 ],
 "metadata": {
  "kernelspec": {
   "display_name": "Python 3 (ipykernel)",
   "language": "python",
   "name": "python3"
  },
  "language_info": {
   "codemirror_mode": {
    "name": "ipython",
    "version": 3
   },
   "file_extension": ".py",
   "mimetype": "text/x-python",
   "name": "python",
   "nbconvert_exporter": "python",
   "pygments_lexer": "ipython3",
   "version": "3.11.6"
  }
 },
 "nbformat": 4,
 "nbformat_minor": 5
}
